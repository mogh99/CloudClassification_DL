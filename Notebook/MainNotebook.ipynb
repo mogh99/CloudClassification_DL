{
  "nbformat": 4,
  "nbformat_minor": 0,
  "metadata": {
    "accelerator": "GPU",
    "colab": {
      "name": "Project_Notebook.ipynb",
      "provenance": [],
      "collapsed_sections": [],
      "machine_shape": "hm"
    },
    "kernelspec": {
      "display_name": "Python 3",
      "name": "python3"
    }
  },
  "cells": [
    {
      "cell_type": "code",
      "metadata": {
        "id": "woAMpYC51QAz"
      },
      "source": [
        "!pip install adabelief-pytorch==0.1.0"
      ],
      "execution_count": null,
      "outputs": []
    },
    {
      "cell_type": "code",
      "metadata": {
        "id": "_KHWd4oEScmv"
      },
      "source": [
        "from google.colab import drive\n",
        "drive.mount('/content/drive')"
      ],
      "execution_count": null,
      "outputs": []
    },
    {
      "cell_type": "code",
      "metadata": {
        "id": "8X7J74NcStQi"
      },
      "source": [
        "import os\n",
        "import numpy as np\n",
        "\n",
        "import matplotlib.pyplot as plt\n",
        "import torch\n",
        "import torchvision   \n",
        "import torch.nn as nn\n",
        "import torch.nn.functional as F\n",
        "import torchvision.models as models\n",
        "import torchvision.transforms as transforms\n",
        "\n",
        "from adabelief_pytorch import AdaBelief\n",
        "\n",
        "from torch.utils.data import Dataset, DataLoader\n",
        "from sklearn.model_selection import train_test_split \n",
        "from PIL import Image\n",
        "\n",
        "import math\n",
        "import cv2\n",
        "\n",
        "device = torch.device('cuda' if torch.cuda.is_available() else 'cpu')"
      ],
      "execution_count": null,
      "outputs": []
    },
    {
      "cell_type": "markdown",
      "metadata": {
        "id": "jDCI9lAxSvuE"
      },
      "source": [
        "## Load The Classification Data"
      ]
    },
    {
      "cell_type": "code",
      "metadata": {
        "id": "17psITHvYDYQ"
      },
      "source": [
        "def parse_data(datadir):\n",
        "    img_list = []\n",
        "    ID_list = []\n",
        "    for root, directories, filenames in os.walk(datadir):  #root: median/1\n",
        "        for filename in filenames:\n",
        "            if filename.endswith('.jpg'):\n",
        "                filei = os.path.join(root, filename)\n",
        "                img_list.append(filei)\n",
        "                ID_list.append(root.split('/')[-1])\n",
        "\n",
        "\n",
        "    # construct a dictionary, where key and value correspond to ID and target\n",
        "    uniqueID_list = list(set(ID_list))\n",
        "    class_n = len(uniqueID_list)\n",
        "    target_dict = dict(zip(uniqueID_list, range(class_n)))\n",
        "    label_list = [target_dict[ID_key] for ID_key in ID_list]\n",
        "\n",
        "    print('{}\\t\\t{}\\n{}\\t\\t{}'.format('#Images', '#Labels', len(img_list), len(set(label_list))))\n",
        "    return img_list, label_list, class_n"
      ],
      "execution_count": null,
      "outputs": []
    },
    {
      "cell_type": "code",
      "metadata": {
        "id": "Kc3j2VJ4YU85"
      },
      "source": [
        "class ImageDataset(Dataset):\n",
        "    def __init__(self, file_list, target_list, transform):\n",
        "        self.file_list = file_list\n",
        "        self.target_list = target_list\n",
        "        self.classes = len(list(set(target_list)))\n",
        "        self.transform = transform\n",
        "\n",
        "    def __len__(self):\n",
        "        return len(self.file_list)\n",
        "\n",
        "    def __getitem__(self, index):\n",
        "        img = Image.open(self.file_list[index])\n",
        "        img = self.transform(img)\n",
        "        label = self.target_list[index]\n",
        "\n",
        "        return img, label"
      ],
      "execution_count": null,
      "outputs": []
    },
    {
      "cell_type": "code",
      "metadata": {
        "id": "qxWFatZMSy2z",
        "colab": {
          "base_uri": "https://localhost:8080/"
        },
        "outputId": "435f830d-63b9-4f77-dd6f-ab6f8b741fc2"
      },
      "source": [
        "root_path = \"/content/drive/MyDrive/Data/ICS_471_Project/CCSN_v2\"\n",
        "\n",
        "split_factor = 0.7\n",
        "\n",
        "#new_size is used to unify all the image sizes. \n",
        "new_size = 400\n",
        "\n",
        "crop_image_size = 150\n",
        "\n",
        "data_transforms = transforms.Compose([transforms.RandomHorizontalFlip(),\n",
        "                                      transforms.FiveCrop(crop_image_size),\n",
        "                                      transforms.Lambda(lambda crops: torch.stack([transforms.ToTensor()(crop) for crop in crops]))])\n",
        "\n",
        "img_list, label_list, num_classes = parse_data(root_path)\n",
        "\n",
        "#Split the data into train and validation datasets\n",
        "train_list, test_list, train_label, test_label = train_test_split(img_list, label_list, train_size=split_factor, shuffle=True)\n",
        "train_dataset = ImageDataset(train_list, train_label, data_transforms)\n",
        "train_loader = DataLoader(train_dataset, batch_size=10, shuffle=True, num_workers=1, drop_last=False)\n",
        "\n",
        "val_dataset = ImageDataset(test_list, test_label, data_transforms)\n",
        "val_loader = DataLoader(val_dataset, batch_size=10, shuffle=False, num_workers=1, drop_last=False)\n",
        "\n",
        "print(f\"Split Factor  = {split_factor}\")\n",
        "print(f\"train_dataset = {train_dataset.__len__()}\")\n",
        "print(f\"val_dataset   = {val_dataset.__len__()}\")"
      ],
      "execution_count": null,
      "outputs": [
        {
          "output_type": "stream",
          "text": [
            "#Images\t\t#Labels\n",
            "2543\t\t11\n",
            "Split Factor  = 0.7\n",
            "train_dataset = 1780\n",
            "val_dataset   = 763\n"
          ],
          "name": "stdout"
        }
      ]
    },
    {
      "cell_type": "code",
      "metadata": {
        "id": "aRhK82qi3tHR",
        "colab": {
          "base_uri": "https://localhost:8080/",
          "height": 320
        },
        "outputId": "e7e40917-6de7-4109-8ed3-1daa71760da8"
      },
      "source": [
        "'''\n",
        "  Using five crop or ten crop will requrie some modifiction to read the images.\n",
        "  Note: Batch size = batch_size * (five crop OR ten crop)\n",
        "'''\n",
        "for batch, target in train_loader:\n",
        "    print(f\"Batch Size with Crop = {batch.shape} = [batch_size, #crop, channels, width, height]\")\n",
        "    bs, ncrops, c, h, w = batch.size() \n",
        "    batch = batch.view(-1,c,h,w)\n",
        "    print(f\"Batch Size without Crop = {batch.shape} = [new_batch_size, channels, width, height]\")\n",
        "\n",
        "    batch = batch.numpy()\n",
        "    for img, label in zip(batch, target):\n",
        "        print(f\"img shape = {img.shape}\")\n",
        "        plt.imshow(img.transpose((1,2,0)))\n",
        "        plt.show()\n",
        "        break\n",
        "    break"
      ],
      "execution_count": null,
      "outputs": [
        {
          "output_type": "stream",
          "text": [
            "Batch Size with Crop = torch.Size([10, 5, 3, 150, 150]) = [batch_size, #crop, channels, width, height]\n",
            "Batch Size without Crop = torch.Size([50, 3, 150, 150]) = [new_batch_size, channels, width, height]\n",
            "img shape = (3, 150, 150)\n"
          ],
          "name": "stdout"
        },
        {
          "output_type": "display_data",
          "data": {
            "image/png": "[encoded data removed]",
            "text/plain": [
              "<Figure size 432x288 with 1 Axes>"
            ]
          },
          "metadata": {
            "tags": [],
            "needs_background": "light"
          }
        }
      ]
    },
    {
      "cell_type": "markdown",
      "metadata": {
        "id": "rcd7Uaa9NTVP"
      },
      "source": [
        "## Center Loss"
      ]
    },
    {
      "cell_type": "code",
      "metadata": {
        "id": "TZHBhBcENV1V"
      },
      "source": [
        "class CenterLoss(nn.Module):\n",
        "    \"\"\"\n",
        "    Args:\n",
        "        num_classes (int): number of classes.\n",
        "        feat_dim (int): feature dimension.\n",
        "    \"\"\"\n",
        "    def __init__(self, num_classes, feat_dim, device=torch.device('cpu')):\n",
        "        super(CenterLoss, self).__init__()\n",
        "        self.num_classes = num_classes\n",
        "        self.feat_dim = feat_dim\n",
        "        self.device = device\n",
        "        \n",
        "        self.centers = nn.Parameter(torch.randn(self.num_classes, self.feat_dim).to(self.device))\n",
        "\n",
        "    def forward(self, x, labels):\n",
        "        \"\"\"\n",
        "        Args:\n",
        "            x: feature matrix with shape (batch_size, feat_dim).\n",
        "            labels: ground truth labels with shape (batch_size).\n",
        "        \"\"\"\n",
        "        batch_size = x.size(0)\n",
        "        distmat = torch.pow(x, 2).sum(dim=1, keepdim=True).expand(batch_size, self.num_classes) + \\\n",
        "                  torch.pow(self.centers, 2).sum(dim=1, keepdim=True).expand(self.num_classes, batch_size).t()\n",
        "        distmat.addmm_(1, -2, x, self.centers.t())\n",
        "\n",
        "        classes = torch.arange(self.num_classes).long().to(self.device)\n",
        "        labels = labels.unsqueeze(1).expand(batch_size, self.num_classes)\n",
        "        mask = labels.eq(classes.expand(batch_size, self.num_classes))\n",
        "\n",
        "        dist = []\n",
        "        for i in range(batch_size):\n",
        "            value = distmat[i][mask[i]]\n",
        "            value = value.clamp(min=1e-12, max=1e+12) # for numerical stability\n",
        "            dist.append(value)\n",
        "        dist = torch.cat(dist)\n",
        "        loss = dist.mean()\n",
        "\n",
        "        return loss"
      ],
      "execution_count": null,
      "outputs": []
    },
    {
      "cell_type": "markdown",
      "metadata": {
        "id": "wFaATD59JTid"
      },
      "source": [
        "## Training and Validation Routine with Center Loss "
      ]
    },
    {
      "cell_type": "code",
      "metadata": {
        "id": "Vl_EdOmZNX93"
      },
      "source": [
        "def train_closs(model, train_loader, val_loader, criterion_label, criterion_closs, optimizer_label, optimizer_closs, closs_weight = 1, numEpochs = 10):\n",
        "    model.train()\n",
        "\n",
        "    for epoch in range(numEpochs):\n",
        "        avg_loss = 0.0\n",
        "        for batch_num, (feats, labels) in enumerate(train_loader):\n",
        "            bs, ncrops, c, h, w = feats.size()\n",
        "            feats = feats.view(-1,c,h,w)\n",
        "            feats, labels = feats.to(device), labels.to(device)\n",
        "            \n",
        "            optimizer_label.zero_grad()\n",
        "            optimizer_closs.zero_grad()\n",
        "            \n",
        "            feature, outputs = model(feats)\n",
        "\n",
        "            feature = feature.view(bs, ncrops, -1).mean(1)\n",
        "            outputs = outputs.view(bs, ncrops, -1).mean(1)\n",
        "\n",
        "            l_loss = criterion_label(outputs, labels.long())\n",
        "            c_loss = criterion_closs(feature, labels.long())\n",
        "            loss = l_loss + closs_weight * c_loss\n",
        "            \n",
        "            loss.backward()\n",
        "            \n",
        "            optimizer_label.step()\n",
        "            # by doing so, weight_cent would not impact on the learning of centers\n",
        "            for param in criterion_closs.parameters():\n",
        "                param.grad.data *= (1. / closs_weight)\n",
        "            optimizer_closs.step()\n",
        "            \n",
        "            avg_loss += loss.item()\n",
        "\n",
        "            if batch_num % 50 == 49:\n",
        "                print('Epoch: {}\\tBatch: {}\\tAvg-Loss: {:.4f}'.format(epoch+1, batch_num+1, avg_loss/50))\n",
        "                avg_loss = 0.0    \n",
        "            \n",
        "            torch.cuda.empty_cache()\n",
        "            del feats\n",
        "            del labels\n",
        "            del loss\n",
        "        \n",
        "        val_loss, val_acc = test_classify_closs(model, val_loader, criterion_label, criterion_closs)\n",
        "        train_loss, train_acc = test_classify_closs(model, train_loader, criterion_label, criterion_closs)\n",
        "        print('Train Loss: {:.4f}\\tTrain Accuracy: {:.4f}\\tVal Loss: {:.4f}\\tVal Accuracy: {:.4f}'.\n",
        "              format(train_loss, train_acc, val_loss, val_acc))\n",
        "        \n",
        "        if epoch%100 == 0 and epoch != 0:\n",
        "            state = {\n",
        "                \"epoch\": epoch,\n",
        "                \"model\": model.state_dict(),\n",
        "                \"optimizer_label\": optimizer_label.state_dict(),\n",
        "                \"optimizer_closs\": optimizer_closs.state_dict(),\n",
        "                \"train_loss\": train_loss,\n",
        "                \"train_acc\": train_acc,\n",
        "                \"val_loss\": val_loss,\n",
        "                \"val_acc\": val_acc\n",
        "            }\n",
        "\n",
        "            torch.save(state, f'/content/drive/MyDrive/Models/ICS-471_Project/net1/model_epoch_{epoch}.pt')\n",
        "            print(f\"Model for epoch = {epoch} is saved\")\n",
        "        \n",
        "\n",
        "def test_classify_closs(model, test_loader, criterion_label, criterion_closs, closs_weight = 1):\n",
        "    model.eval()\n",
        "    test_loss = []\n",
        "    accuracy = 0\n",
        "    total = 0\n",
        "\n",
        "    for batch_num, (feats, labels) in enumerate(test_loader):\n",
        "        bs, ncrops, c, h, w = feats.size()\n",
        "        feats = feats.view(-1,c,h,w)\n",
        "        \n",
        "        feats, labels = feats.to(device), labels.to(device)\n",
        "\n",
        "        feature, outputs = model(feats)\n",
        "\n",
        "        feature = feature.view(bs, ncrops, -1).mean(1)\n",
        "        outputs = outputs.view(bs, ncrops, -1).mean(1)\n",
        "        \n",
        "        _, pred_labels = torch.max(F.softmax(outputs, dim=1), 1)\n",
        "        pred_labels = pred_labels.view(-1)\n",
        "        \n",
        "        l_loss = criterion_label(outputs, labels.long())\n",
        "        c_loss = criterion_closs(feature, labels.long())\n",
        "        loss = l_loss + closs_weight * c_loss\n",
        "        \n",
        "        accuracy += torch.sum(torch.eq(pred_labels, labels)).item()\n",
        "        total += len(labels)\n",
        "        test_loss.extend([loss.item()]*feats.size()[0])\n",
        "        del feats\n",
        "        del labels\n",
        "\n",
        "    model.train()\n",
        "    return np.mean(test_loss), accuracy/total"
      ],
      "execution_count": null,
      "outputs": []
    },
    {
      "cell_type": "markdown",
      "metadata": {
        "id": "kBRtEEbtTeWp"
      },
      "source": [
        "## Network"
      ]
    },
    {
      "cell_type": "code",
      "metadata": {
        "id": "to8ARBdjOFSv"
      },
      "source": [
        "class Network(nn.Module):\n",
        "    def __init__(self, CNN_layers, CNN_layers_output, num_classes, feat_dim=10):\n",
        "        super(Network, self).__init__()\n",
        "        \n",
        "        self.layers = []\n",
        "        self.layers = nn.Sequential(*CNN_layers)\n",
        "\n",
        "        self.linear_label = nn.Linear(CNN_layers_output, num_classes, bias=False)\n",
        "        \n",
        "        # For creating the embedding to be passed into the Center Loss criterion\n",
        "        self.linear_closs = nn.Linear(CNN_layers_output, feat_dim, bias=False)\n",
        "        self.relu_closs = nn.ReLU(inplace=True)\n",
        "    \n",
        "    def forward(self, x, evalMode=False):\n",
        "        output = x\n",
        "        output = self.layers(output)\n",
        "        output = F.avg_pool2d(output, [output.size(2), output.size(3)], stride=1)\n",
        "        output = output.reshape(output.shape[0], output.shape[1])\n",
        "        \n",
        "        label_output = self.linear_label(output)\n",
        "        label_output = label_output/torch.norm(self.linear_label.weight, dim=1)\n",
        "        \n",
        "        # Create the feature embedding for the Center Loss\n",
        "        closs_output = self.linear_closs(output)\n",
        "        closs_output = self.relu_closs(closs_output)\n",
        "\n",
        "        return closs_output, label_output\n",
        "\n",
        "def init_weights(m):\n",
        "    if type(m) == nn.Conv2d or type(m) == nn.Linear:\n",
        "        torch.nn.init.xavier_normal_(m.weight.data)"
      ],
      "execution_count": null,
      "outputs": []
    },
    {
      "cell_type": "markdown",
      "metadata": {
        "id": "F8gKV4O5A5th"
      },
      "source": [
        "#### Network (Net1)\n"
      ]
    },
    {
      "cell_type": "markdown",
      "metadata": {
        "id": "E6p2IQau_Kca"
      },
      "source": [
        "#### Network (Net2)\n"
      ]
    },
    {
      "cell_type": "markdown",
      "metadata": {
        "id": "1lKiixKkO-j5"
      },
      "source": [
        "## Classification Training with Center Loss"
      ]
    },
    {
      "cell_type": "code",
      "metadata": {
        "id": "_3G0GFRZPnkn"
      },
      "source": [
        "epoch = 20000"
      ],
      "execution_count": null,
      "outputs": []
    },
    {
      "cell_type": "markdown",
      "metadata": {
        "id": "JphNbbqWKaCW"
      },
      "source": [
        "#### Network (Net1)"
      ]
    },
    {
      "cell_type": "markdown",
      "metadata": {
        "id": "F6FoImqixENJ"
      },
      "source": [
        "##### Load Saved Net1"
      ]
    },
    {
      "cell_type": "markdown",
      "metadata": {
        "id": "fNJO67T10Fgm"
      },
      "source": [
        "##### Saved Net1 Results"
      ]
    },
    {
      "cell_type": "markdown",
      "metadata": {
        "id": "d3BNsphCAS5E"
      },
      "source": [
        "#### Network (Net2)"
      ]
    },
    {
      "cell_type": "markdown",
      "metadata": {
        "id": "hhgn9k0vCKC8"
      },
      "source": [
        "##### Load Saved Net2"
      ]
    },
    {
      "cell_type": "markdown",
      "metadata": {
        "id": "fPZIyFUJCIUe"
      },
      "source": [
        "##### Saved Net2 Results"
      ]
    }
  ]
}